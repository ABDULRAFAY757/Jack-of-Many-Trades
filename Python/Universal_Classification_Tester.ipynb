{
 "cells": [
  {
   "cell_type": "code",
   "execution_count": 64,
   "id": "20f84875",
   "metadata": {},
   "outputs": [],
   "source": [
    "#<=========== Data Preprocessing ===========>\n",
    "# Importing the libraries\n",
    "import numpy as np           \t  #For working with arrays \n",
    "import matplotlib.pyplot as plt   #For plotting graphs\n",
    "import pandas as pd        \t  #For working withs datasets in datafram formate\n",
    "\n",
    "# Importing the dataset \n",
    "dataset = pd.read_csv('Sonar_Data.csv')     #Importing the data.csv file\n",
    "X = dataset.iloc[:, :-1].values       # Independent veriables all rows and all columns expect last cloumn is in X\n",
    "Y = dataset.iloc[:, -1].values        # Dependent veriable only last column and all rows\n",
    "\n",
    "# Taking care of missing data\n",
    "from sklearn.impute import SimpleImputer\n",
    "imputer = SimpleImputer(missing_values=np.nan, strategy='mean')\n",
    "imputer.fit(X[:, :-1])\n",
    "X[:, :-1] = imputer.transform(X[:, :-1])\n",
    "#print(X)\n",
    "\n",
    "# Splitting the dataset into the Training set and Test set\n",
    "from sklearn.model_selection import train_test_split   # Import skleran library\n",
    "X_train, X_test, Y_train, Y_test = train_test_split(X, Y, test_size = 0.25, random_state = 0) # Create Test and Train set that will be 20% Test and 80% training with random selection enable\n",
    "\n",
    "# Feature Scaling\n",
    "from sklearn.preprocessing import StandardScaler\n",
    "sc = StandardScaler()\n",
    "X_train = sc.fit_transform(X_train)\n",
    "X_test = sc.transform(X_test)"
   ]
  },
  {
   "cell_type": "markdown",
   "id": "f869d389",
   "metadata": {},
   "source": [
    "Importing All The Classification Models"
   ]
  },
  {
   "cell_type": "code",
   "execution_count": 65,
   "id": "7ae64060",
   "metadata": {},
   "outputs": [
    {
     "name": "stdout",
     "output_type": "stream",
     "text": [
      "[[25  2]\n",
      " [12 13]]\n"
     ]
    }
   ],
   "source": [
    "#Logistic Model-1\n",
    "from sklearn.linear_model import LogisticRegression\n",
    "classifier_1 = LogisticRegression()\n",
    "classifier_1.fit(X_train, Y_train)\n",
    "\n",
    "Y_pred_1 = classifier.predict(X_test)\n",
    "\n",
    "from sklearn.metrics import confusion_matrix, accuracy_score\n",
    "cm = confusion_matrix(Y_test, Y_pred_1)\n",
    "print(cm)\n",
    "acc_1 = accuracy_score(Y_test, Y_pred_1)"
   ]
  },
  {
   "cell_type": "code",
   "execution_count": 66,
   "id": "befda062",
   "metadata": {},
   "outputs": [
    {
     "name": "stdout",
     "output_type": "stream",
     "text": [
      "[[25  2]\n",
      " [12 13]]\n"
     ]
    }
   ],
   "source": [
    "#Navive Bayes-2\n",
    "from sklearn.naive_bayes import GaussianNB\n",
    "classifier_2 = GaussianNB()\n",
    "classifier_2.fit(X_train, Y_train)\n",
    "\n",
    "Y_pred_2 = classifier.predict(X_test)\n",
    "\n",
    "from sklearn.metrics import confusion_matrix, accuracy_score\n",
    "cm = confusion_matrix(Y_test, Y_pred_2)\n",
    "print(cm)\n",
    "acc_2 = accuracy_score(Y_test, Y_pred_2)"
   ]
  },
  {
   "cell_type": "code",
   "execution_count": 67,
   "id": "503eef65",
   "metadata": {},
   "outputs": [
    {
     "name": "stdout",
     "output_type": "stream",
     "text": [
      "[[25  2]\n",
      " [12 13]]\n"
     ]
    }
   ],
   "source": [
    "#Support Vector Machine-3\n",
    "from sklearn.svm import SVC\n",
    "classifier_3 = SVC(kernel = 'linear')\n",
    "classifier_3.fit(X_train, Y_train)\n",
    "\n",
    "Y_pred_3 = classifier.predict(X_test)\n",
    "\n",
    "from sklearn.metrics import confusion_matrix, accuracy_score\n",
    "cm = confusion_matrix(Y_test, Y_pred_3)\n",
    "print(cm)\n",
    "acc_3 = accuracy_score(Y_test, Y_pred_3)"
   ]
  },
  {
   "cell_type": "code",
   "execution_count": 68,
   "id": "7ba09b2f",
   "metadata": {},
   "outputs": [
    {
     "name": "stdout",
     "output_type": "stream",
     "text": [
      "[[25  2]\n",
      " [12 13]]\n"
     ]
    }
   ],
   "source": [
    "#Kernal SVM-4\n",
    "from sklearn.svm import SVC\n",
    "classifier_4 = SVC(kernel = 'rbf')\n",
    "classifier_4.fit(X_train, Y_train)\n",
    "\n",
    "Y_pred_4 = classifier.predict(X_test)\n",
    "\n",
    "from sklearn.metrics import confusion_matrix, accuracy_score\n",
    "cm = confusion_matrix(Y_test, Y_pred_4)\n",
    "print(cm)\n",
    "acc_4 = accuracy_score(Y_test, Y_pred_4)"
   ]
  },
  {
   "cell_type": "code",
   "execution_count": 69,
   "id": "6f092932",
   "metadata": {},
   "outputs": [
    {
     "name": "stdout",
     "output_type": "stream",
     "text": [
      "[[25  2]\n",
      " [12 13]]\n"
     ]
    }
   ],
   "source": [
    "#K Nearest Neighbour-5\n",
    "from sklearn.neighbors import KNeighborsClassifier\n",
    "classifier_5 = KNeighborsClassifier(n_neighbors = 5, metric='minkowski', p=2)\n",
    "classifier_5.fit(X_train, Y_train)\n",
    "\n",
    "Y_pred_5 = classifier.predict(X_test)\n",
    "\n",
    "from sklearn.metrics import confusion_matrix, accuracy_score\n",
    "cm = confusion_matrix(Y_test, Y_pred_5)\n",
    "print(cm)\n",
    "acc_5 = accuracy_score(Y_test, Y_pred_5)"
   ]
  },
  {
   "cell_type": "code",
   "execution_count": 70,
   "id": "a38f73f1",
   "metadata": {},
   "outputs": [
    {
     "name": "stdout",
     "output_type": "stream",
     "text": [
      "[[25  2]\n",
      " [12 13]]\n"
     ]
    }
   ],
   "source": [
    "#Decision Tree-6\n",
    "from sklearn.tree import DecisionTreeClassifier\n",
    "classifier_6 = DecisionTreeClassifier()\n",
    "classifier_6.fit(X_train, Y_train)\n",
    "\n",
    "Y_pred_6 = classifier.predict(X_test)\n",
    "\n",
    "from sklearn.metrics import confusion_matrix, accuracy_score\n",
    "cm = confusion_matrix(Y_test, Y_pred_6)\n",
    "print(cm)\n",
    "acc_6 = accuracy_score(Y_test, Y_pred_6)"
   ]
  },
  {
   "cell_type": "code",
   "execution_count": 71,
   "id": "f0673017",
   "metadata": {},
   "outputs": [
    {
     "name": "stdout",
     "output_type": "stream",
     "text": [
      "[[25  2]\n",
      " [12 13]]\n"
     ]
    }
   ],
   "source": [
    "#Random Forest-7\n",
    "from sklearn.ensemble import RandomForestClassifier\n",
    "classifier_7 = RandomForestClassifier(n_estimators= 10, criterion = 'entropy', random_state= 0)\n",
    "classifier_7.fit(X_train, Y_train)\n",
    "\n",
    "Y_pred_7 = classifier.predict(X_test)\n",
    "\n",
    "from sklearn.metrics import confusion_matrix, accuracy_score\n",
    "cm = confusion_matrix(Y_test, Y_pred_7)\n",
    "print(cm)\n",
    "acc_7 = (accuracy_score(Y_test, Y_pred_7))"
   ]
  },
  {
   "cell_type": "code",
   "execution_count": 72,
   "id": "be7d38a1",
   "metadata": {},
   "outputs": [
    {
     "name": "stdout",
     "output_type": "stream",
     "text": [
      "Accuracy Of Logistic Model = 73.07692307692307\n",
      "Accuracy Of Navive Bayes Model = 73.07692307692307\n",
      "Accuracy Of Support Vector Machine Model = 73.07692307692307\n",
      "Accuracy Of Kernal SVM Model = 73.07692307692307\n",
      "Accuracy Of K Nearest Neighbour Model = 73.07692307692307\n",
      "Accuracy Of Decision Tree Model = 73.07692307692307\n",
      "Accuracy Of Random Forest Model = 73.07692307692307\n"
     ]
    }
   ],
   "source": [
    "print(f'Accuracy Of Logistic Model = {acc_1*100}');\n",
    "print(f'Accuracy Of Navive Bayes Model = {acc_2*100}');\n",
    "print(f'Accuracy Of Support Vector Machine Model = {acc_3*100}');\n",
    "print(f'Accuracy Of Kernal SVM Model = {acc_4*100}');\n",
    "print(f'Accuracy Of K Nearest Neighbour Model = {acc_5*100}');\n",
    "print(f'Accuracy Of Decision Tree Model = {acc_6*100}');\n",
    "print(f'Accuracy Of Random Forest Model = {acc_7*100}');\n"
   ]
  },
  {
   "cell_type": "code",
   "execution_count": 73,
   "id": "408d1e1c",
   "metadata": {},
   "outputs": [
    {
     "name": "stdout",
     "output_type": "stream",
     "text": [
      "The Highest Accuracy : 73.08\n"
     ]
    }
   ],
   "source": [
    "accuraies = [acc_1, acc_2, acc_3, acc_4, acc_5, acc_6, acc_7]\n",
    "max_accuracy = max(accuraies)\n",
    "print(f'The Highest Accuracy : {round(max_accuracy*100,2)}')\n"
   ]
  },
  {
   "cell_type": "code",
   "execution_count": 81,
   "id": "50ef860a",
   "metadata": {},
   "outputs": [
    {
     "name": "stdout",
     "output_type": "stream",
     "text": [
      "The Best Possible Model Is At Index : 0\n"
     ]
    }
   ],
   "source": [
    "max_index=np.argmax(accuraies)\n",
    "print(f'The Best Possible Model Is At Index : {max_index}')"
   ]
  },
  {
   "cell_type": "code",
   "execution_count": 82,
   "id": "cddc7628",
   "metadata": {},
   "outputs": [
    {
     "name": "stdout",
     "output_type": "stream",
     "text": [
      "The Best Model For This Dataset Is : Logistic Regression\n"
     ]
    }
   ],
   "source": [
    "if(max_index == 0):\n",
    "    Best_Model = 'Logistic Regression'\n",
    "elif(max_index == 1):\n",
    "    Best_Model = 'Navie Bayes'\n",
    "elif(max_index == 2):\n",
    "    Best_Model = 'SVM'\n",
    "elif(max_index == 3):\n",
    "    Best_Model = 'Kernel SVM'\n",
    "elif(max_index == 4):\n",
    "    Best_Model = 'KNN'\n",
    "elif(max_index == 5):\n",
    "    Best_Model = 'Decission Tree'\n",
    "elif(max_index == 6):\n",
    "    Best_Model = 'Random Forest'\n",
    "    \n",
    "print(f'The Best Model For This Dataset Is : {Best_Model}');"
   ]
  },
  {
   "cell_type": "code",
   "execution_count": null,
   "id": "d122d928",
   "metadata": {},
   "outputs": [],
   "source": []
  }
 ],
 "metadata": {
  "kernelspec": {
   "display_name": "Python 3 (ipykernel)",
   "language": "python",
   "name": "python3"
  },
  "language_info": {
   "codemirror_mode": {
    "name": "ipython",
    "version": 3
   },
   "file_extension": ".py",
   "mimetype": "text/x-python",
   "name": "python",
   "nbconvert_exporter": "python",
   "pygments_lexer": "ipython3",
   "version": "3.9.12"
  }
 },
 "nbformat": 4,
 "nbformat_minor": 5
}
